{
 "cells": [
  {
   "cell_type": "markdown",
   "metadata": {},
   "source": [
    "1) How-to-count-distance-to-the-previous-zero\n",
    "For each value, count the difference of the distance from the previous zero (or the start\n",
    "of the Series, whichever is closer) and if there are no previous zeros,print the position\n",
    "Consider a DataFrame df where there is an integer column {'X':[7, 2, 0, 3, 4, 2, 5, 0, 3, 4]}\n",
    "The values should therefore be [1, 2, 0, 1, 2, 3, 4, 0, 1, 2]. Make this a new column 'Y'.\n",
    "import pandas as pd\n",
    "df = pd.DataFrame({'X': [7, 2, 0, 3, 4, 2, 5, 0, 3, 4]})\n"
   ]
  },
  {
   "cell_type": "code",
   "execution_count": 36,
   "metadata": {},
   "outputs": [
    {
     "data": {
      "text/html": [
       "<div>\n",
       "<style scoped>\n",
       "    .dataframe tbody tr th:only-of-type {\n",
       "        vertical-align: middle;\n",
       "    }\n",
       "\n",
       "    .dataframe tbody tr th {\n",
       "        vertical-align: top;\n",
       "    }\n",
       "\n",
       "    .dataframe thead th {\n",
       "        text-align: right;\n",
       "    }\n",
       "</style>\n",
       "<table border=\"1\" class=\"dataframe\">\n",
       "  <thead>\n",
       "    <tr style=\"text-align: right;\">\n",
       "      <th></th>\n",
       "      <th>X</th>\n",
       "      <th>Y</th>\n",
       "    </tr>\n",
       "  </thead>\n",
       "  <tbody>\n",
       "    <tr>\n",
       "      <th>0</th>\n",
       "      <td>7</td>\n",
       "      <td>1</td>\n",
       "    </tr>\n",
       "    <tr>\n",
       "      <th>1</th>\n",
       "      <td>2</td>\n",
       "      <td>2</td>\n",
       "    </tr>\n",
       "    <tr>\n",
       "      <th>2</th>\n",
       "      <td>0</td>\n",
       "      <td>0</td>\n",
       "    </tr>\n",
       "    <tr>\n",
       "      <th>3</th>\n",
       "      <td>3</td>\n",
       "      <td>1</td>\n",
       "    </tr>\n",
       "    <tr>\n",
       "      <th>4</th>\n",
       "      <td>4</td>\n",
       "      <td>2</td>\n",
       "    </tr>\n",
       "    <tr>\n",
       "      <th>5</th>\n",
       "      <td>2</td>\n",
       "      <td>3</td>\n",
       "    </tr>\n",
       "    <tr>\n",
       "      <th>6</th>\n",
       "      <td>5</td>\n",
       "      <td>4</td>\n",
       "    </tr>\n",
       "    <tr>\n",
       "      <th>7</th>\n",
       "      <td>0</td>\n",
       "      <td>0</td>\n",
       "    </tr>\n",
       "    <tr>\n",
       "      <th>8</th>\n",
       "      <td>3</td>\n",
       "      <td>1</td>\n",
       "    </tr>\n",
       "    <tr>\n",
       "      <th>9</th>\n",
       "      <td>4</td>\n",
       "      <td>2</td>\n",
       "    </tr>\n",
       "  </tbody>\n",
       "</table>\n",
       "</div>"
      ],
      "text/plain": [
       "   X  Y\n",
       "0  7  1\n",
       "1  2  2\n",
       "2  0  0\n",
       "3  3  1\n",
       "4  4  2\n",
       "5  2  3\n",
       "6  5  4\n",
       "7  0  0\n",
       "8  3  1\n",
       "9  4  2"
      ]
     },
     "execution_count": 36,
     "metadata": {},
     "output_type": "execute_result"
    }
   ],
   "source": [
    "#Solution for #1)\n",
    "import pandas as pd\n",
    "df = pd.DataFrame({'X': [7, 2, 0, 3, 4, 2, 5, 0, 3, 4]})\n",
    "# ln=len(df)\n",
    "y = []\n",
    "counter= 0\n",
    "for i in df.values:\n",
    "    if i == 0:\n",
    "        counter= 0\n",
    "        y.append(counter)\n",
    "    else:\n",
    "        counter +=1 \n",
    "        y.append(counter)\n",
    "df['Y']=y\n",
    "df\n"
   ]
  },
  {
   "cell_type": "code",
   "execution_count": null,
   "metadata": {},
   "outputs": [],
   "source": []
  },
  {
   "cell_type": "markdown",
   "metadata": {},
   "source": [
    "2) Create a DatetimeIndex that contains each business day of 2015 and use it to index a Series of random numbers.\n"
   ]
  },
  {
   "cell_type": "code",
   "execution_count": 62,
   "metadata": {},
   "outputs": [],
   "source": [
    "?pd.date_range"
   ]
  },
  {
   "cell_type": "code",
   "execution_count": 66,
   "metadata": {},
   "outputs": [],
   "source": [
    "?np.random"
   ]
  },
  {
   "cell_type": "code",
   "execution_count": 71,
   "metadata": {},
   "outputs": [
    {
     "data": {
      "text/plain": [
       "2015-01-01    0.157853\n",
       "2015-01-02    0.668501\n",
       "2015-01-05    0.774058\n",
       "2015-01-06    0.339500\n",
       "2015-01-07    0.528277\n",
       "2015-01-08    0.167111\n",
       "2015-01-09    0.457214\n",
       "2015-01-12    0.704680\n",
       "2015-01-13    0.829647\n",
       "2015-01-14    0.990174\n",
       "2015-01-15    0.112865\n",
       "2015-01-16    0.525200\n",
       "2015-01-19    0.113186\n",
       "2015-01-20    0.971528\n",
       "2015-01-21    0.538930\n",
       "2015-01-22    0.328575\n",
       "2015-01-23    0.390788\n",
       "2015-01-26    0.409877\n",
       "2015-01-27    0.785055\n",
       "2015-01-28    0.796258\n",
       "2015-01-29    0.294460\n",
       "2015-01-30    0.770852\n",
       "2015-02-02    0.804281\n",
       "2015-02-03    0.717224\n",
       "2015-02-04    0.434956\n",
       "2015-02-05    0.969231\n",
       "2015-02-06    0.587779\n",
       "2015-02-09    0.763464\n",
       "2015-02-10    0.751592\n",
       "2015-02-11    0.929335\n",
       "                ...   \n",
       "2015-11-20    0.992152\n",
       "2015-11-23    0.819140\n",
       "2015-11-24    0.319043\n",
       "2015-11-25    0.149743\n",
       "2015-11-26    0.892312\n",
       "2015-11-27    0.670717\n",
       "2015-11-30    0.138600\n",
       "2015-12-01    0.462913\n",
       "2015-12-02    0.117493\n",
       "2015-12-03    0.948332\n",
       "2015-12-04    0.936002\n",
       "2015-12-07    0.922356\n",
       "2015-12-08    0.513214\n",
       "2015-12-09    0.377600\n",
       "2015-12-10    0.460837\n",
       "2015-12-11    0.994856\n",
       "2015-12-14    0.743716\n",
       "2015-12-15    0.288226\n",
       "2015-12-16    0.586637\n",
       "2015-12-17    0.522040\n",
       "2015-12-18    0.444165\n",
       "2015-12-21    0.479064\n",
       "2015-12-22    0.347771\n",
       "2015-12-23    0.556077\n",
       "2015-12-24    0.727022\n",
       "2015-12-25    0.628883\n",
       "2015-12-28    0.484322\n",
       "2015-12-29    0.593342\n",
       "2015-12-30    0.881033\n",
       "2015-12-31    0.812541\n",
       "Freq: B, Length: 261, dtype: float64"
      ]
     },
     "execution_count": 71,
     "metadata": {},
     "output_type": "execute_result"
    }
   ],
   "source": [
    "#Solution for # 2)\n",
    "import numpy as np\n",
    "import pandas as pd\n",
    "dt = pd.date_range(start='01-01-2015', end='31-12-2015', freq='B')\n",
    "# dt\n",
    "s = pd.Series(np.random.rand(len(dt)), index=dt)\n",
    "s"
   ]
  },
  {
   "cell_type": "code",
   "execution_count": null,
   "metadata": {},
   "outputs": [],
   "source": [
    "3) Find the sum of the values in s for every Wednesday\n"
   ]
  },
  {
   "cell_type": "code",
   "execution_count": 77,
   "metadata": {},
   "outputs": [],
   "source": [
    "?dt.weekday\n"
   ]
  },
  {
   "cell_type": "code",
   "execution_count": 79,
   "metadata": {},
   "outputs": [
    {
     "data": {
      "text/plain": [
       "29.19435584433191"
      ]
     },
     "execution_count": 79,
     "metadata": {},
     "output_type": "execute_result"
    }
   ],
   "source": [
    "#Solution for #3\n",
    "s[dt.weekday == 2].sum() \n"
   ]
  },
  {
   "cell_type": "code",
   "execution_count": null,
   "metadata": {},
   "outputs": [],
   "source": [
    "4) Average For each calendar month\n"
   ]
  },
  {
   "cell_type": "code",
   "execution_count": 82,
   "metadata": {},
   "outputs": [],
   "source": [
    "?s.resample"
   ]
  },
  {
   "cell_type": "code",
   "execution_count": 85,
   "metadata": {},
   "outputs": [
    {
     "data": {
      "text/plain": [
       "2015-01-31    0.529754\n",
       "2015-02-28    0.617825\n",
       "2015-03-31    0.482328\n",
       "2015-04-30    0.499309\n",
       "2015-05-31    0.516432\n",
       "2015-06-30    0.554446\n",
       "2015-07-31    0.527644\n",
       "2015-08-31    0.589560\n",
       "2015-09-30    0.481128\n",
       "2015-10-31    0.511972\n",
       "2015-11-30    0.523981\n",
       "2015-12-31    0.601237\n",
       "Freq: M, dtype: float64"
      ]
     },
     "execution_count": 85,
     "metadata": {},
     "output_type": "execute_result"
    }
   ],
   "source": [
    "s.resample('M').mean()"
   ]
  },
  {
   "cell_type": "code",
   "execution_count": null,
   "metadata": {},
   "outputs": [],
   "source": [
    "5) For each group of four consecutive calendar months in s, find the date on which the\n",
    "highest value occurred."
   ]
  },
  {
   "cell_type": "code",
   "execution_count": 93,
   "metadata": {},
   "outputs": [],
   "source": [
    "# ?s.groupby\n",
    "# ?pd.TimeGrouper\n",
    "?pd.Grouper"
   ]
  },
  {
   "cell_type": "code",
   "execution_count": 94,
   "metadata": {},
   "outputs": [
    {
     "data": {
      "text/plain": [
       "2015-01-31   2015-01-14\n",
       "2015-05-31   2015-02-12\n",
       "2015-09-30   2015-08-10\n",
       "2016-01-31   2015-10-26\n",
       "dtype: datetime64[ns]"
      ]
     },
     "execution_count": 94,
     "metadata": {},
     "output_type": "execute_result"
    }
   ],
   "source": [
    "#Solution for #5\n",
    "s.groupby(pd.Grouper(freq='4M')).idxmax()"
   ]
  },
  {
   "cell_type": "code",
   "execution_count": null,
   "metadata": {},
   "outputs": [],
   "source": []
  }
 ],
 "metadata": {
  "kernelspec": {
   "display_name": "Python 3",
   "language": "python",
   "name": "python3"
  },
  "language_info": {
   "codemirror_mode": {
    "name": "ipython",
    "version": 3
   },
   "file_extension": ".py",
   "mimetype": "text/x-python",
   "name": "python",
   "nbconvert_exporter": "python",
   "pygments_lexer": "ipython3",
   "version": "3.7.0"
  }
 },
 "nbformat": 4,
 "nbformat_minor": 2
}
